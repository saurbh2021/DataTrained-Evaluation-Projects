{
 "cells": [
  {
   "cell_type": "markdown",
   "metadata": {},
   "source": [
    "# Name of Projects:\n",
    "Agricultural production optimization Engine."
   ]
  },
  {
   "cell_type": "markdown",
   "metadata": {},
   "source": [
    "## Problem Statement:\n",
    "Build a Predictive Model so as to suggest the most suitable crops to grow based on the available climatic and soil conditions."
   ]
  },
  {
   "cell_type": "markdown",
   "metadata": {},
   "source": [
    "## Goal:\n",
    "    Achieve precision farming by optimizing the agriculture production."
   ]
  },
  {
   "cell_type": "code",
   "execution_count": 1,
   "metadata": {},
   "outputs": [],
   "source": [
    "from scipy.stats import zscore\n",
    "from sklearn.linear_model import LogisticRegression\n",
    "from sklearn.naive_bayes import GaussianNB\n",
    "from sklearn.svm import SVC\n",
    "from sklearn.ensemble import RandomForestClassifier\n",
    "from sklearn.ensemble import AdaBoostClassifier\n",
    "from sklearn.metrics import accuracy_score,confusion_matrix,classification_report\n",
    "from sklearn.preprocessing import MinMaxScaler\n",
    "from sklearn.model_selection import train_test_split\n",
    "from sklearn.preprocessing import PowerTransformer\n",
    "from sklearn.model_selection import cross_val_score\n",
    "import joblib\n",
    "import numpy as np\n",
    "import pandas as pd\n",
    "import seaborn as sns\n",
    "import matplotlib.pyplot as plt\n",
    "import warnings\n",
    "warnings.filterwarnings(\"ignore\")"
   ]
  },
  {
   "cell_type": "code",
   "execution_count": 2,
   "metadata": {},
   "outputs": [],
   "source": [
    "data=pd.read_csv('Agriculture.csv') # lets read the dataset"
   ]
  },
  {
   "cell_type": "code",
   "execution_count": 3,
   "metadata": {},
   "outputs": [
    {
     "data": {
      "text/html": [
       "<div>\n",
       "<style scoped>\n",
       "    .dataframe tbody tr th:only-of-type {\n",
       "        vertical-align: middle;\n",
       "    }\n",
       "\n",
       "    .dataframe tbody tr th {\n",
       "        vertical-align: top;\n",
       "    }\n",
       "\n",
       "    .dataframe thead th {\n",
       "        text-align: right;\n",
       "    }\n",
       "</style>\n",
       "<table border=\"1\" class=\"dataframe\">\n",
       "  <thead>\n",
       "    <tr style=\"text-align: right;\">\n",
       "      <th></th>\n",
       "      <th>N</th>\n",
       "      <th>P</th>\n",
       "      <th>K</th>\n",
       "      <th>temperature</th>\n",
       "      <th>humidity</th>\n",
       "      <th>ph</th>\n",
       "      <th>rainfall</th>\n",
       "      <th>label</th>\n",
       "    </tr>\n",
       "  </thead>\n",
       "  <tbody>\n",
       "    <tr>\n",
       "      <th>0</th>\n",
       "      <td>90</td>\n",
       "      <td>42</td>\n",
       "      <td>43</td>\n",
       "      <td>20.879744</td>\n",
       "      <td>82.002744</td>\n",
       "      <td>6.502985</td>\n",
       "      <td>202.935536</td>\n",
       "      <td>rice</td>\n",
       "    </tr>\n",
       "    <tr>\n",
       "      <th>1</th>\n",
       "      <td>85</td>\n",
       "      <td>58</td>\n",
       "      <td>41</td>\n",
       "      <td>21.770462</td>\n",
       "      <td>80.319644</td>\n",
       "      <td>7.038096</td>\n",
       "      <td>226.655537</td>\n",
       "      <td>rice</td>\n",
       "    </tr>\n",
       "    <tr>\n",
       "      <th>2</th>\n",
       "      <td>60</td>\n",
       "      <td>55</td>\n",
       "      <td>44</td>\n",
       "      <td>23.004459</td>\n",
       "      <td>82.320763</td>\n",
       "      <td>7.840207</td>\n",
       "      <td>263.964248</td>\n",
       "      <td>rice</td>\n",
       "    </tr>\n",
       "    <tr>\n",
       "      <th>3</th>\n",
       "      <td>74</td>\n",
       "      <td>35</td>\n",
       "      <td>40</td>\n",
       "      <td>26.491096</td>\n",
       "      <td>80.158363</td>\n",
       "      <td>6.980401</td>\n",
       "      <td>242.864034</td>\n",
       "      <td>rice</td>\n",
       "    </tr>\n",
       "    <tr>\n",
       "      <th>4</th>\n",
       "      <td>78</td>\n",
       "      <td>42</td>\n",
       "      <td>42</td>\n",
       "      <td>20.130175</td>\n",
       "      <td>81.604873</td>\n",
       "      <td>7.628473</td>\n",
       "      <td>262.717340</td>\n",
       "      <td>rice</td>\n",
       "    </tr>\n",
       "  </tbody>\n",
       "</table>\n",
       "</div>"
      ],
      "text/plain": [
       "    N   P   K  temperature   humidity        ph    rainfall label\n",
       "0  90  42  43    20.879744  82.002744  6.502985  202.935536  rice\n",
       "1  85  58  41    21.770462  80.319644  7.038096  226.655537  rice\n",
       "2  60  55  44    23.004459  82.320763  7.840207  263.964248  rice\n",
       "3  74  35  40    26.491096  80.158363  6.980401  242.864034  rice\n",
       "4  78  42  42    20.130175  81.604873  7.628473  262.717340  rice"
      ]
     },
     "execution_count": 3,
     "metadata": {},
     "output_type": "execute_result"
    }
   ],
   "source": [
    "data.head() #lets check the head of dataset"
   ]
  },
  {
   "cell_type": "code",
   "execution_count": 4,
   "metadata": {},
   "outputs": [
    {
     "data": {
      "text/plain": [
       "(2200, 8)"
      ]
     },
     "execution_count": 4,
     "metadata": {},
     "output_type": "execute_result"
    }
   ],
   "source": [
    "data.shape #lets check the shape of data"
   ]
  },
  {
   "cell_type": "code",
   "execution_count": 5,
   "metadata": {},
   "outputs": [
    {
     "data": {
      "text/plain": [
       "N              0\n",
       "P              0\n",
       "K              0\n",
       "temperature    0\n",
       "humidity       0\n",
       "ph             0\n",
       "rainfall       0\n",
       "label          0\n",
       "dtype: int64"
      ]
     },
     "execution_count": 5,
     "metadata": {},
     "output_type": "execute_result"
    }
   ],
   "source": [
    "data.isnull().sum() # lets check the missing value"
   ]
  },
  {
   "cell_type": "raw",
   "metadata": {},
   "source": [
    "there is no missing value"
   ]
  },
  {
   "cell_type": "code",
   "execution_count": 6,
   "metadata": {},
   "outputs": [
    {
     "name": "stdout",
     "output_type": "stream",
     "text": [
      "Average Ratio of Nitrogen in the soil: 50.551818\n",
      "Average Ratio of Phosphorus in the soil: 53.362727\n",
      "Average Ratio of Potassium in the soil: 48.149091\n",
      "Average Temperature in Celsius soil: 25.616244\n",
      "Average relative Humidity in %: 71.481779\n",
      "Average PH value in the soil: 6.469480\n",
      "Average Ratio of Rainfall in the mm: 103.463655\n"
     ]
    }
   ],
   "source": [
    "# lets check the summary for all the crops\n",
    "\n",
    "print(\"Average Ratio of Nitrogen in the soil: {0:2f}\".format(data['N'].mean()))\n",
    "print(\"Average Ratio of Phosphorus in the soil: {0:2f}\".format(data['P'].mean()))\n",
    "print(\"Average Ratio of Potassium in the soil: {0:2f}\".format(data['K'].mean()))\n",
    "print(\"Average Temperature in Celsius soil: {0:2f}\".format(data['temperature'].mean()))\n",
    "print(\"Average relative Humidity in %: {0:2f}\".format(data['humidity'].mean()))\n",
    "print(\"Average PH value in the soil: {0:2f}\".format(data['ph'].mean()))\n",
    "print(\"Average Ratio of Rainfall in the mm: {0:2f}\".format(data['rainfall'].mean()))"
   ]
  },
  {
   "cell_type": "markdown",
   "metadata": {},
   "source": [
    "according to result  we can see the average of N,P,K  average is approximsate 50% and that is the need for crop in scintific prospect and ph arrount should be & and rain fall should be arround 100% for any crops\n"
   ]
  },
  {
   "cell_type": "code",
   "execution_count": 7,
   "metadata": {},
   "outputs": [],
   "source": [
    "from __future__ import print_function\n",
    "from ipywidgets import interact, interactive, fixed, interact_manual\n",
    "import ipywidgets as widgets"
   ]
  },
  {
   "cell_type": "code",
   "execution_count": 8,
   "metadata": {},
   "outputs": [
    {
     "data": {
      "application/vnd.jupyter.widget-view+json": {
       "model_id": "69326ae7951144bb89abebcd157ad3ed",
       "version_major": 2,
       "version_minor": 0
      },
      "text/plain": [
       "interactive(children=(Dropdown(description='crops', options=('mothbeans', 'cotton', 'banana', 'orange', 'coffe…"
      ]
     },
     "metadata": {},
     "output_type": "display_data"
    }
   ],
   "source": [
    "# lets check the sumary statistics for each of the crops\n",
    "\n",
    "@interact\n",
    "def summary (crops = list(data['label'].value_counts().index)):\n",
    "    x= data[data['label']==crops]\n",
    "    print(\".....................................\")\n",
    "    print(\"Statics for Nitrogen\")\n",
    "    print(\"minimum Nitrogen required:\",x[\"N\"].min())\n",
    "    print(\"minimum Nitrogen required:\",x[\"N\"].mean())\n",
    "    print(\"minimum Nitrogen required:\",x[\"N\"].max())\n",
    "    print(\".....................................\")\n",
    "    print(\"Statics for Phosphorus\")\n",
    "    print(\"minimum Phosphorus required:\",x[\"P\"].min())\n",
    "    print(\"minimum Phosphorus required:\",x[\"P\"].min())\n",
    "    print(\"minimum Phosphorus required:\",x[\"P\"].min())\n",
    "    print(\".....................................\")\n",
    "    print(\"Statics for Potassium\")\n",
    "    print(\"minimum Potassium required:\",x[\"K\"].min())\n",
    "    print(\"minimum Potassium required:\",x[\"K\"].min())\n",
    "    print(\"minimum Potassium required:\",x[\"K\"].min())\n",
    "    print(\".....................................\")\n",
    "    print(\"Statics for Temperature\")\n",
    "    print(\"minimum Temperature required:\",x[\"temperature\"].min())\n",
    "    print(\"minimum Temperature required:\",x[\"temperature\"].min())\n",
    "    print(\"minimum Temperature required:\",x[\"temperature\"].min())\n",
    "    print(\".....................................\")\n",
    "    print(\"Statics for relative Humidity\")\n",
    "    print(\"minimum relative Humidity required:\",x[\"humidity\"].min())\n",
    "    print(\"minimum relative Humidity required:\",x[\"humidity\"].min())\n",
    "    print(\"minimum relative Humidity required:\",x[\"humidity\"].min())\n",
    "    print(\".....................................\")\n",
    "    print(\"Statics for  PH\")\n",
    "    print(\"minimum  PH required:\",x[\"ph\"].min())\n",
    "    print(\"minimum  PH required:\",x[\"ph\"].min())\n",
    "    print(\"minimum  PH required:\",x[\"ph\"].min())\n",
    "    print(\".....................................\")\n",
    "    print(\"Statics for Rainfall\")\n",
    "    print(\"minimum Rainfall required:\",x[\"rainfall\"].min())\n",
    "    print(\"minimum Rainfall required:\",x[\"rainfall\"].min())\n",
    "    print(\"minimum Rainfall required:\",x[\"rainfall\"].min())"
   ]
  },
  {
   "cell_type": "code",
   "execution_count": 9,
   "metadata": {},
   "outputs": [
    {
     "data": {
      "application/vnd.jupyter.widget-view+json": {
       "model_id": "6c638e7dba844517abcc063ed447b3a2",
       "version_major": 2,
       "version_minor": 0
      },
      "text/plain": [
       "interactive(children=(Dropdown(description='conditions', options=('N', 'P', 'K', 'temperature', 'ph', 'humidit…"
      ]
     },
     "metadata": {},
     "output_type": "display_data"
    }
   ],
   "source": [
    "## lets compare the average Requirement for each crops with average condition\n",
    "\n",
    "@interact\n",
    "def compare (conditions=['N','P','K','temperature','ph','humidity','rainfall']):\n",
    "    print(\"Average Value for\", conditions,\"is {0:.2f}\".format(data[conditions].mean()))\n",
    "    print(\"...........................................\")\n",
    "    print(\"Rice : {0:.2f}\".format (data[(data['label']== 'rice')][conditions].mean()))\n",
    "    print(\"Lentil: {0:2f}\".format (data[(data['label']=='lentil')][conditions].mean()))\n",
    "    print(\"Blackgram: {0:2f}\".format (data[(data['label']=='blackgram')][conditions].mean()))\n",
    "    print(\"Papaya: {0:2f}\".format (data[(data['label']=='papaya')][conditions].mean()))\n",
    "    print(\"Mango: {0:2f}\".format (data[(data['label']=='mango')][conditions].mean()))\n",
    "    print(\"Coffee: {0:2f}\".format (data[(data['label']=='coffee')][conditions].mean()))\n",
    "    print(\"Watermelon: {0:2f}\".format (data[(data['label']=='watermelon')][conditions].mean()))\n",
    "    print(\"Mothbeans: {0:2f}\".format (data[(data['label']=='mothbeans')][conditions].mean()))\n",
    "    print(\"Muskmelon: {0:2f}\".format (data[(data['label']=='muskmelon')][conditions].mean()))\n",
    "    print(\"Maize: {0:2f}\".format (data[(data['label']=='maize')][conditions].mean()))\n",
    "    print(\"Kidneybeans: {0:2f}\".format (data[(data['label']=='kidneybeans')][conditions].mean()))\n",
    "    print(\"Banana: {0:2f}\".format (data[(data['label']=='banana')][conditions].mean()))\n",
    "    print(\"Mungbean: {0:2f}\".format (data[(data['label']=='mungbean')][conditions].mean()))\n",
    "    print(\"Pomegranate: {0:2f}\".format (data[(data['label']=='pomegranate')][conditions].mean()))\n",
    "    print(\"Grapes: {0:2f}\".format (data[(data['label']=='grapes')][conditions].mean()))\n",
    "    print(\"Jute: {0:2f}\".format (data[(data['label']=='jute')][conditions].mean()))\n",
    "    print(\"Pigeonpeas: {0:2f}\".format (data[(data['label']=='pigeonpeas')][conditions].mean()))\n",
    "    print(\"Orange: {0:2f}\".format (data[(data['label']=='orange')][conditions].mean()))\n",
    "    print(\"Cotton: {0:2f}\".format (data[(data['label']=='cotton')][conditions].mean()))\n",
    "    print(\"Apple: {0:2f}\".format (data[(data['label']=='apple')][conditions].mean()))\n",
    "    print(\"Chickpea: {0:2f}\".format (data[(data['label']=='chickpea')][conditions].mean()))\n",
    "    print(\"Coconut: {0:2f}\".format (data[(data['label']=='coconut')][conditions].mean()))\n",
    "  "
   ]
  },
  {
   "cell_type": "code",
   "execution_count": 10,
   "metadata": {},
   "outputs": [
    {
     "data": {
      "application/vnd.jupyter.widget-view+json": {
       "model_id": "30c30306a64a4e5281e5e2eb3532a424",
       "version_major": 2,
       "version_minor": 0
      },
      "text/plain": [
       "interactive(children=(Dropdown(description='conditions', options=('N', 'P', 'K', 'temperature', 'ph', 'humidit…"
      ]
     },
     "metadata": {},
     "output_type": "display_data"
    }
   ],
   "source": [
    "#lets make this function more intutive\n",
    "@interact\n",
    "def compare (conditions=['N','P','K','temperature','ph','humidity','rainfall']):\n",
    "    print (\"Crop which required greater than average\", conditions,'\\n')\n",
    "    print(data[data[conditions] > data[conditions].mean()]['label'].unique())\n",
    "    print(\"...........................................\")\n",
    "    print (\"Crop which required less than average\", conditions,'\\n')\n",
    "    print(data[data[conditions]<= data[conditions].mean()]['label'].unique())"
   ]
  },
  {
   "cell_type": "code",
   "execution_count": 11,
   "metadata": {},
   "outputs": [
    {
     "data": {
      "image/png": "[encoded data removed]",
      "text/plain": [
       "<Figure size 432x288 with 1 Axes>"
      ]
     },
     "metadata": {
      "needs_background": "light"
     },
     "output_type": "display_data"
    },
    {
     "data": {
      "image/png": "[encoded data removed]",
      "text/plain": [
       "<Figure size 360x360 with 1 Axes>"
      ]
     },
     "metadata": {
      "needs_background": "light"
     },
     "output_type": "display_data"
    },
    {
     "data": {
      "image/png": "[encoded data removed]",
      "text/plain": [
       "<Figure size 360x360 with 1 Axes>"
      ]
     },
     "metadata": {
      "needs_background": "light"
     },
     "output_type": "display_data"
    },
    {
     "data": {
      "image/png": "[encoded data removed]",
      "text/plain": [
       "<Figure size 360x360 with 1 Axes>"
      ]
     },
     "metadata": {
      "needs_background": "light"
     },
     "output_type": "display_data"
    },
    {
     "data": {
      "image/png": "[encoded data removed]",
      "text/plain": [
       "<Figure size 360x360 with 1 Axes>"
      ]
     },
     "metadata": {
      "needs_background": "light"
     },
     "output_type": "display_data"
    },
    {
     "data": {
      "image/png": "[encoded data removed]",
      "text/plain": [
       "<Figure size 360x360 with 1 Axes>"
      ]
     },
     "metadata": {
      "needs_background": "light"
     },
     "output_type": "display_data"
    },
    {
     "data": {
      "image/png": "[encoded data removed]",
      "text/plain": [
       "<Figure size 360x360 with 1 Axes>"
      ]
     },
     "metadata": {
      "needs_background": "light"
     },
     "output_type": "display_data"
    },
    {
     "data": {
      "image/png": "[encoded data removed]",
      "text/plain": [
       "<Figure size 360x360 with 1 Axes>"
      ]
     },
     "metadata": {
      "needs_background": "light"
     },
     "output_type": "display_data"
    },
    {
     "data": {
      "image/png": "[encoded data removed]",
      "text/plain": [
       "<Figure size 360x360 with 1 Axes>"
      ]
     },
     "metadata": {
      "needs_background": "light"
     },
     "output_type": "display_data"
    }
   ],
   "source": [
    "plt.subplot(2,3,4)\n",
    "sns.displot(data['N'],color=\"black\")\n",
    "plt.xlabel('n',fontsize=12)\n",
    "plt.grid()\n",
    "\n",
    "plt.subplot(2,3,4)\n",
    "sns.displot(data[\"K\"],color=\"yellow\")\n",
    "plt.xlabel('k',fontsize=12)\n",
    "plt.grid()\n",
    "\n",
    "\n",
    "plt.subplot(2,3,4)\n",
    "sns.displot(data[\"temperature\"],color=\"grey\")\n",
    "plt.xlabel('Temperature',fontsize=12)\n",
    "plt.grid()\n",
    "\n",
    "\n",
    "plt.subplot(2,3,4)\n",
    "sns.displot(data[\"humidity\"],color=\"lightgreen\")\n",
    "plt.xlabel('Humidity',fontsize=12)\n",
    "plt.grid()\n",
    "\n",
    "\n",
    "plt.subplot(2,3,4)\n",
    "sns.displot(data[\"rainfall\"],color=\"darkgreen\")\n",
    "plt.xlabel('Rainfall',fontsize=12)\n",
    "plt.grid()\n",
    "\n",
    "\n",
    "plt.subplot(2,3,4)\n",
    "sns.displot(data[\"label\"],color=\"blue\")\n",
    "plt.xlabel('Label',fontsize=12)\n",
    "plt.grid()\n",
    "\n",
    "\n",
    "plt.subplot(2,3,4)\n",
    "sns.displot(data[\"ph\"],color=\"darkblue\")\n",
    "plt.xlabel('Ph',fontsize=12)\n",
    "plt.grid()\n",
    "\n",
    "\n",
    "\n",
    "plt.subplot(2,3,4)\n",
    "sns.displot(data[\"P\"],color=\"red\")\n",
    "plt.xlabel('p',fontsize=12)\n",
    "plt.grid()\n",
    "\n",
    "plt.suptitle(\"Disstribution for agriculture condition\", fontsize=20)\n",
    "plt.show()\n"
   ]
  },
  {
   "cell_type": "code",
   "execution_count": 12,
   "metadata": {},
   "outputs": [
    {
     "data": {
      "text/plain": [
       "mothbeans      100\n",
       "cotton         100\n",
       "banana         100\n",
       "orange         100\n",
       "coffee         100\n",
       "grapes         100\n",
       "pigeonpeas     100\n",
       "blackgram      100\n",
       "watermelon     100\n",
       "coconut        100\n",
       "rice           100\n",
       "chickpea       100\n",
       "papaya         100\n",
       "mungbean       100\n",
       "maize          100\n",
       "lentil         100\n",
       "apple          100\n",
       "kidneybeans    100\n",
       "mango          100\n",
       "pomegranate    100\n",
       "muskmelon      100\n",
       "jute           100\n",
       "Name: label, dtype: int64"
      ]
     },
     "execution_count": 12,
     "metadata": {},
     "output_type": "execute_result"
    }
   ],
   "source": [
    "data['label'].value_counts() #lets check the crops present in this Dataset"
   ]
  },
  {
   "cell_type": "code",
   "execution_count": 13,
   "metadata": {},
   "outputs": [
    {
     "name": "stdout",
     "output_type": "stream",
     "text": [
      "some interesting pattern\n",
      "...........................\n",
      "crop which required very high ratio of Nitrogen content in soil: ['cotton']\n",
      "crop which required very high ratio of Phosphorous content in soil: ['grapes' 'apple']\n",
      "crop which required very high ratio of Potassium content in soil: ['grapes' 'apple']\n",
      "crop which required very high ratio of rainfall:  ['rice' 'papaya' 'coconut']\n",
      "crop which required very high  temperature : ['grapes' 'papaya']\n",
      "crop which required very low temperature : ['grapes']\n",
      "crop which required very low  humidity : ['chickpea' 'kidneybeans']\n",
      "crop which required very low  ph : ['mothbeans']\n",
      "crop which required very low  ph : ['mothbeans']\n"
     ]
    }
   ],
   "source": [
    "print(\"some interesting pattern\")\n",
    "print(\"...........................\")\n",
    "print(\"crop which required very high ratio of Nitrogen content in soil:\",data[data['N'] > 120]['label'].unique())\n",
    "print(\"crop which required very high ratio of Phosphorous content in soil:\",data[data['P'] >100]['label'].unique())\n",
    "print(\"crop which required very high ratio of Potassium content in soil:\",data[data['K'] >200]['label'].unique())\n",
    "print(\"crop which required very high ratio of rainfall: \",data[data[\"rainfall\"]>200]['label'].unique())\n",
    "print(\"crop which required very high  temperature :\",data[data[\"temperature\"]> 40]['label'].unique())\n",
    "print(\"crop which required very low temperature :\",data[data[\"temperature\"] <10]['label'].unique())\n",
    "print(\"crop which required very low  humidity :\",data[data[\"humidity\"] <20]['label'].unique())\n",
    "print(\"crop which required very low  ph :\",data[data[\"ph\"] <4]['label'].unique())\n",
    "print(\"crop which required very low  ph :\",data[data[\"ph\"] >9]['label'].unique())\n",
    "\n"
   ]
  },
  {
   "cell_type": "code",
   "execution_count": 14,
   "metadata": {},
   "outputs": [
    {
     "name": "stdout",
     "output_type": "stream",
     "text": [
      "Summer Crops\n",
      "['pigeonpeas' 'mothbeans' 'blackgram' 'mango' 'grapes' 'orange' 'papaya']\n",
      "..............................\n",
      "winter crop\n",
      "['rice' 'maize' 'pigeonpeas' 'mothbeans' 'mungbean' 'blackgram' 'lentil'\n",
      " 'pomegranate' 'banana' 'mango' 'grapes' 'watermelon' 'muskmelon' 'apple'\n",
      " 'orange' 'papaya' 'coconut' 'cotton' 'jute' 'coffee']\n",
      "..............................\n",
      "rainy crop\n",
      "['rice' 'papaya' 'coconut']\n"
     ]
    }
   ],
   "source": [
    "###lets understand which crop can be grown in summer,winter,rainy seasons\n",
    "print(\"Summer Crops\")\n",
    "print(data[(data['temperature']> 30) & (data['humidity'] > 50)]['label'].unique())\n",
    "\n",
    "print(\"..............................\")\n",
    "print(\"winter crop\")\n",
    "print(data[(data[\"temperature\"]> 20) & (data[\"humidity\"] > 30)]['label'].unique())\n",
    "\n",
    "print(\"..............................\")\n",
    "print(\"rainy crop\")          \n",
    "print(data[(data[\"rainfall\"]> 200) & (data[\"humidity\"] > 30)]['label'].unique())\n",
    "           \n"
   ]
  },
  {
   "cell_type": "code",
   "execution_count": 15,
   "metadata": {},
   "outputs": [],
   "source": [
    "from sklearn.cluster import KMeans"
   ]
  },
  {
   "cell_type": "code",
   "execution_count": 18,
   "metadata": {},
   "outputs": [],
   "source": [
    "x= data.drop(['label'],axis=1)"
   ]
  },
  {
   "cell_type": "code",
   "execution_count": 19,
   "metadata": {},
   "outputs": [],
   "source": [
    "X=x.values"
   ]
  },
  {
   "cell_type": "code",
   "execution_count": 20,
   "metadata": {},
   "outputs": [
    {
     "data": {
      "text/plain": [
       "(2200, 7)"
      ]
     },
     "execution_count": 20,
     "metadata": {},
     "output_type": "execute_result"
    }
   ],
   "source": [
    "x.shape"
   ]
  },
  {
   "cell_type": "code",
   "execution_count": 21,
   "metadata": {},
   "outputs": [],
   "source": [
    "#lets determine the optimum number of cluster within the dataset\n",
    "plt.rcParams['figure.figsize']=(10,4)\n",
    "\n",
    "wcss=[]\n",
    "for i in range(1,11):\n",
    "    km=KMeans(n_clusters=i, init = 'k-means++',max_iter=300, n_init=10 , random_state=0)\n",
    "    km.fit(x)\n",
    "    wcss.append(km.inertia_)"
   ]
  },
  {
   "cell_type": "code",
   "execution_count": 22,
   "metadata": {},
   "outputs": [
    {
     "data": {
      "image/png": "[encoded data removed]",
      "text/plain": [
       "<Figure size 720x288 with 1 Axes>"
      ]
     },
     "metadata": {
      "needs_background": "light"
     },
     "output_type": "display_data"
    }
   ],
   "source": [
    "plt.plot(range(1,11),wcss)\n",
    "plt.title('the Elboe Method', fontsize=20)\n",
    "plt.xlabel('no of Clusters')\n",
    "plt.ylabel('wcss')\n",
    "plt.show()"
   ]
  },
  {
   "cell_type": "code",
   "execution_count": null,
   "metadata": {},
   "outputs": [],
   "source": []
  },
  {
   "cell_type": "code",
   "execution_count": 23,
   "metadata": {},
   "outputs": [],
   "source": [
    "#lets split the dataframe for prediction modeling\n",
    "\n",
    "y=data['label']\n",
    "x=data.drop(['label'],axis=1)\n",
    "\n"
   ]
  },
  {
   "cell_type": "code",
   "execution_count": 24,
   "metadata": {},
   "outputs": [
    {
     "data": {
      "text/plain": [
       "(2200, 7)"
      ]
     },
     "execution_count": 24,
     "metadata": {},
     "output_type": "execute_result"
    }
   ],
   "source": [
    "x.shape"
   ]
  },
  {
   "cell_type": "code",
   "execution_count": 25,
   "metadata": {},
   "outputs": [
    {
     "data": {
      "text/plain": [
       "(2200,)"
      ]
     },
     "execution_count": 25,
     "metadata": {},
     "output_type": "execute_result"
    }
   ],
   "source": [
    "y.shape"
   ]
  },
  {
   "cell_type": "code",
   "execution_count": 26,
   "metadata": {},
   "outputs": [],
   "source": [
    "#lets creat trining and testing sets for validation of results\n",
    "\n",
    "from sklearn.model_selection import train_test_split"
   ]
  },
  {
   "cell_type": "code",
   "execution_count": 27,
   "metadata": {},
   "outputs": [],
   "source": [
    "X_train, X_test, y_train, y_test = train_test_split(X, y, test_size = 0.2, random_state = 0)"
   ]
  },
  {
   "cell_type": "code",
   "execution_count": 28,
   "metadata": {},
   "outputs": [],
   "source": [
    "from sklearn.linear_model import LogisticRegression"
   ]
  },
  {
   "cell_type": "code",
   "execution_count": 29,
   "metadata": {},
   "outputs": [],
   "source": [
    "model=LogisticRegression()\n",
    "model.fit(X_train,y_train)\n",
    "y_pred=model.predict(X_test)"
   ]
  },
  {
   "cell_type": "code",
   "execution_count": 30,
   "metadata": {},
   "outputs": [],
   "source": [
    "from sklearn.metrics import confusion_matrix"
   ]
  },
  {
   "cell_type": "code",
   "execution_count": 31,
   "metadata": {},
   "outputs": [
    {
     "data": {
      "image/png": "[encoded data removed]",
      "text/plain": [
       "<Figure size 720x720 with 2 Axes>"
      ]
     },
     "metadata": {
      "needs_background": "light"
     },
     "output_type": "display_data"
    }
   ],
   "source": [
    "#lets print the confusion matrix first\n",
    "plt.rcParams['figure.figsize']=(10,10)\n",
    "cm=confusion_matrix(y_test,y_pred)\n",
    "sns.heatmap(cm,annot=True,cmap='Wistia')\n",
    "plt.title('confusion matrix for logisticRegression', fontsize = 15)\n",
    "plt.show()"
   ]
  },
  {
   "cell_type": "code",
   "execution_count": 32,
   "metadata": {},
   "outputs": [
    {
     "name": "stdout",
     "output_type": "stream",
     "text": [
      "              precision    recall  f1-score   support\n",
      "\n",
      "       apple       1.00      1.00      1.00        18\n",
      "      banana       1.00      1.00      1.00        18\n",
      "   blackgram       0.86      0.82      0.84        22\n",
      "    chickpea       1.00      1.00      1.00        23\n",
      "     coconut       1.00      1.00      1.00        15\n",
      "      coffee       1.00      1.00      1.00        17\n",
      "      cotton       0.89      1.00      0.94        16\n",
      "      grapes       1.00      1.00      1.00        18\n",
      "        jute       0.84      1.00      0.91        21\n",
      " kidneybeans       1.00      1.00      1.00        20\n",
      "      lentil       0.94      0.94      0.94        17\n",
      "       maize       0.94      0.89      0.91        18\n",
      "       mango       1.00      1.00      1.00        21\n",
      "   mothbeans       0.88      0.92      0.90        25\n",
      "    mungbean       1.00      1.00      1.00        17\n",
      "   muskmelon       1.00      1.00      1.00        23\n",
      "      orange       1.00      1.00      1.00        23\n",
      "      papaya       1.00      0.95      0.98        21\n",
      "  pigeonpeas       1.00      1.00      1.00        22\n",
      " pomegranate       1.00      1.00      1.00        23\n",
      "        rice       1.00      0.84      0.91        25\n",
      "  watermelon       1.00      1.00      1.00        17\n",
      "\n",
      "    accuracy                           0.97       440\n",
      "   macro avg       0.97      0.97      0.97       440\n",
      "weighted avg       0.97      0.97      0.97       440\n",
      "\n"
     ]
    }
   ],
   "source": [
    "#lets print the classification report also\n",
    "cr=classification_report (y_test,y_pred)\n",
    "print(cr)"
   ]
  },
  {
   "cell_type": "code",
   "execution_count": 33,
   "metadata": {},
   "outputs": [
    {
     "data": {
      "text/html": [
       "<div>\n",
       "<style scoped>\n",
       "    .dataframe tbody tr th:only-of-type {\n",
       "        vertical-align: middle;\n",
       "    }\n",
       "\n",
       "    .dataframe tbody tr th {\n",
       "        vertical-align: top;\n",
       "    }\n",
       "\n",
       "    .dataframe thead th {\n",
       "        text-align: right;\n",
       "    }\n",
       "</style>\n",
       "<table border=\"1\" class=\"dataframe\">\n",
       "  <thead>\n",
       "    <tr style=\"text-align: right;\">\n",
       "      <th></th>\n",
       "      <th>N</th>\n",
       "      <th>P</th>\n",
       "      <th>K</th>\n",
       "      <th>temperature</th>\n",
       "      <th>humidity</th>\n",
       "      <th>ph</th>\n",
       "      <th>rainfall</th>\n",
       "      <th>label</th>\n",
       "    </tr>\n",
       "  </thead>\n",
       "  <tbody>\n",
       "    <tr>\n",
       "      <th>0</th>\n",
       "      <td>90</td>\n",
       "      <td>42</td>\n",
       "      <td>43</td>\n",
       "      <td>20.879744</td>\n",
       "      <td>82.002744</td>\n",
       "      <td>6.502985</td>\n",
       "      <td>202.935536</td>\n",
       "      <td>rice</td>\n",
       "    </tr>\n",
       "    <tr>\n",
       "      <th>1</th>\n",
       "      <td>85</td>\n",
       "      <td>58</td>\n",
       "      <td>41</td>\n",
       "      <td>21.770462</td>\n",
       "      <td>80.319644</td>\n",
       "      <td>7.038096</td>\n",
       "      <td>226.655537</td>\n",
       "      <td>rice</td>\n",
       "    </tr>\n",
       "    <tr>\n",
       "      <th>2</th>\n",
       "      <td>60</td>\n",
       "      <td>55</td>\n",
       "      <td>44</td>\n",
       "      <td>23.004459</td>\n",
       "      <td>82.320763</td>\n",
       "      <td>7.840207</td>\n",
       "      <td>263.964248</td>\n",
       "      <td>rice</td>\n",
       "    </tr>\n",
       "    <tr>\n",
       "      <th>3</th>\n",
       "      <td>74</td>\n",
       "      <td>35</td>\n",
       "      <td>40</td>\n",
       "      <td>26.491096</td>\n",
       "      <td>80.158363</td>\n",
       "      <td>6.980401</td>\n",
       "      <td>242.864034</td>\n",
       "      <td>rice</td>\n",
       "    </tr>\n",
       "    <tr>\n",
       "      <th>4</th>\n",
       "      <td>78</td>\n",
       "      <td>42</td>\n",
       "      <td>42</td>\n",
       "      <td>20.130175</td>\n",
       "      <td>81.604873</td>\n",
       "      <td>7.628473</td>\n",
       "      <td>262.717340</td>\n",
       "      <td>rice</td>\n",
       "    </tr>\n",
       "  </tbody>\n",
       "</table>\n",
       "</div>"
      ],
      "text/plain": [
       "    N   P   K  temperature   humidity        ph    rainfall label\n",
       "0  90  42  43    20.879744  82.002744  6.502985  202.935536  rice\n",
       "1  85  58  41    21.770462  80.319644  7.038096  226.655537  rice\n",
       "2  60  55  44    23.004459  82.320763  7.840207  263.964248  rice\n",
       "3  74  35  40    26.491096  80.158363  6.980401  242.864034  rice\n",
       "4  78  42  42    20.130175  81.604873  7.628473  262.717340  rice"
      ]
     },
     "execution_count": 33,
     "metadata": {},
     "output_type": "execute_result"
    }
   ],
   "source": [
    "data.head()"
   ]
  },
  {
   "cell_type": "code",
   "execution_count": 34,
   "metadata": {},
   "outputs": [
    {
     "name": "stdout",
     "output_type": "stream",
     "text": [
      "the suggest crop for given climate condition is: ['coffee']\n"
     ]
    }
   ],
   "source": [
    "prediction= model.predict((np.array([[90,\n",
    "                                     40,\n",
    "                                     20,\n",
    "                                     80,\n",
    "                                     7,\n",
    "                                     15,\n",
    "                                      200]])))\n",
    "print('the suggest crop for given climate condition is:' , prediction)"
   ]
  },
  {
   "cell_type": "markdown",
   "metadata": {},
   "source": [
    "from this model we can predict crops according to thecondition of the different feature value. so it is easier for the selection of best crops to farmer."
   ]
  },
  {
   "cell_type": "markdown",
   "metadata": {},
   "source": [
    "# "
   ]
  },
  {
   "cell_type": "markdown",
   "metadata": {},
   "source": [
    "# saving the model"
   ]
  },
  {
   "cell_type": "code",
   "execution_count": 35,
   "metadata": {},
   "outputs": [
    {
     "data": {
      "text/plain": [
       "['Agricultural.pkl']"
      ]
     },
     "execution_count": 35,
     "metadata": {},
     "output_type": "execute_result"
    }
   ],
   "source": [
    "import joblib\n",
    "joblib.dump(model,\"Agricultural.pkl\")"
   ]
  },
  {
   "cell_type": "code",
   "execution_count": null,
   "metadata": {},
   "outputs": [],
   "source": []
  }
 ],
 "metadata": {
  "kernelspec": {
   "display_name": "Python 3",
   "language": "python",
   "name": "python3"
  },
  "language_info": {
   "codemirror_mode": {
    "name": "ipython",
    "version": 3
   },
   "file_extension": ".py",
   "mimetype": "text/x-python",
   "name": "python",
   "nbconvert_exporter": "python",
   "pygments_lexer": "ipython3",
   "version": "3.8.5"
  }
 },
 "nbformat": 4,
 "nbformat_minor": 4
}
